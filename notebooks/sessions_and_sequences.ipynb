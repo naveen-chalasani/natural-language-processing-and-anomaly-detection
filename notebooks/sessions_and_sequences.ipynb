{
 "cells": [
  {
   "cell_type": "code",
   "execution_count": 1,
   "metadata": {},
   "outputs": [],
   "source": [
    "import os \n",
    "import re\n",
    "import numpy as np \n",
    "import pandas as pd\n",
    "from collections import OrderedDict"
   ]
  },
  {
   "cell_type": "markdown",
   "metadata": {},
   "source": [
    "```\n",
    "log = pd.read_csv('HDFS_2k.log', engine='c', na_filter=False, memory_map=True, header=None)       \n",
    "log.head()\n",
    "```"
   ]
  },
  {
   "cell_type": "markdown",
   "metadata": {},
   "source": [
    "```\n",
    "for idx, row in log.iterrows():\n",
    "    if idx < 3:\n",
    "        print(row[0])\n",
    "```"
   ]
  },
  {
   "cell_type": "code",
   "execution_count": 2,
   "metadata": {},
   "outputs": [],
   "source": [
    "# extract session info from log file and save the output in sessions.csv\n",
    "\n",
    "def hdfs_sessions(log_file):\n",
    "    \n",
    "    session = 0\n",
    "    sequence_in_session = 0\n",
    "    block_id_list = list()\n",
    "    session_info = OrderedDict()\n",
    "    \n",
    "    log_data = pd.read_csv(log_file, engine='c', na_filter=False, memory_map=True, header=None)\n",
    "    \n",
    "    for index, row in log_data.iterrows():\n",
    "        \n",
    "        block_ids_in_row = re.findall(r'(blk_-?\\d+)', row[0])\n",
    "        #block_ids = '; '.join(sorted(set(block_ids_in_row)))\n",
    "        block_id = block_ids_in_row[0]\n",
    "        \n",
    "        if block_id not in block_id_list:\n",
    "            block_id_list.append(block_id)\n",
    "            session += 1\n",
    "            sequence_in_session = 1\n",
    "        else:\n",
    "            sequence_in_session += 1\n",
    "        \n",
    "        temp_list = [None] * 3\n",
    "        temp_list[0] = block_id\n",
    "        temp_list[1] = session\n",
    "        temp_list[2] = sequence_in_session\n",
    "        session_info[index + 1] = temp_list\n",
    "            \n",
    "    df = pd.DataFrame.from_dict(session_info, orient = 'index', columns=['block_id', 'session', 'sequence_in_session'])\n",
    "    df.to_csv(\"sessions_sample.csv\")\n"
   ]
  },
  {
   "cell_type": "code",
   "execution_count": 3,
   "metadata": {},
   "outputs": [],
   "source": [
    "hdfs_sessions('HDFS_2k.log')"
   ]
  }
 ],
 "metadata": {
  "kernelspec": {
   "display_name": "Python 3",
   "language": "python",
   "name": "python3"
  },
  "language_info": {
   "codemirror_mode": {
    "name": "ipython",
    "version": 3
   },
   "file_extension": ".py",
   "mimetype": "text/x-python",
   "name": "python",
   "nbconvert_exporter": "python",
   "pygments_lexer": "ipython3",
   "version": "3.8.3"
  }
 },
 "nbformat": 4,
 "nbformat_minor": 4
}
